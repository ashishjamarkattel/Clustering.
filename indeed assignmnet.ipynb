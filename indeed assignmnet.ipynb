{
 "cells": [
  {
   "cell_type": "code",
   "execution_count": 53,
   "id": "4a910654",
   "metadata": {},
   "outputs": [],
   "source": [
    "## imports\n",
    "import pandas as pd\n",
    "import seaborn as sns\n",
    "import matplotlib.pyplot as plt\n",
    "from sklearn.cluster import KMeans,DBSCAN\n",
    "import nltk\n",
    "import re"
   ]
  },
  {
   "cell_type": "code",
   "execution_count": 45,
   "id": "87791a9e",
   "metadata": {},
   "outputs": [],
   "source": [
    "### dataframes\n",
    "df = pd.read_csv(\"Raw_Skills_Dataset.csv\")\n",
    "sample = pd.read_csv(\"Example_Technical_Skills.csv\")"
   ]
  },
  {
   "cell_type": "code",
   "execution_count": 46,
   "id": "feaf7f89",
   "metadata": {},
   "outputs": [
    {
     "name": "stdout",
     "output_type": "stream",
     "text": [
      "Size of data :  34116\n"
     ]
    },
    {
     "data": {
      "text/html": [
       "<div>\n",
       "<style scoped>\n",
       "    .dataframe tbody tr th:only-of-type {\n",
       "        vertical-align: middle;\n",
       "    }\n",
       "\n",
       "    .dataframe tbody tr th {\n",
       "        vertical-align: top;\n",
       "    }\n",
       "\n",
       "    .dataframe thead th {\n",
       "        text-align: right;\n",
       "    }\n",
       "</style>\n",
       "<table border=\"1\" class=\"dataframe\">\n",
       "  <thead>\n",
       "    <tr style=\"text-align: right;\">\n",
       "      <th></th>\n",
       "      <th>RAW DATA</th>\n",
       "    </tr>\n",
       "  </thead>\n",
       "  <tbody>\n",
       "    <tr>\n",
       "      <th>5015</th>\n",
       "      <td>various network protocols</td>\n",
       "    </tr>\n",
       "    <tr>\n",
       "      <th>16903</th>\n",
       "      <td>the functional/ performance/ user experience r...</td>\n",
       "    </tr>\n",
       "    <tr>\n",
       "      <th>30072</th>\n",
       "      <td>Veracode</td>\n",
       "    </tr>\n",
       "    <tr>\n",
       "      <th>22993</th>\n",
       "      <td>Active Directory</td>\n",
       "    </tr>\n",
       "    <tr>\n",
       "      <th>5070</th>\n",
       "      <td>data analytics</td>\n",
       "    </tr>\n",
       "  </tbody>\n",
       "</table>\n",
       "</div>"
      ],
      "text/plain": [
       "                                                RAW DATA\n",
       "5015                           various network protocols\n",
       "16903  the functional/ performance/ user experience r...\n",
       "30072                                           Veracode\n",
       "22993                                   Active Directory\n",
       "5070                                      data analytics"
      ]
     },
     "execution_count": 46,
     "metadata": {},
     "output_type": "execute_result"
    }
   ],
   "source": [
    "print(\"Size of data : \",df.shape[0])\n",
    "df.sample(5)"
   ]
  },
  {
   "cell_type": "markdown",
   "id": "dc8246b1",
   "metadata": {},
   "source": [
    "\n",
    "Things to preprocess: \n",
    "\n",
    "1. Some of the points contains . which is not useful removing them.\n",
    "2. SOme have special character.\n",
    "3. Lot of dublicates. \n",
    "4. Remove charcter such as .\n",
    "\n",
    "\n",
    "WorkFlow:\n",
    "\n",
    "1. Lower the words.\n",
    "2. Check dublicates.\n",
    "3. Remove punctuation.\n",
    "4. Check dublicates.\n"
   ]
  },
  {
   "cell_type": "code",
   "execution_count": 47,
   "id": "adda82da",
   "metadata": {},
   "outputs": [
    {
     "name": "stdout",
     "output_type": "stream",
     "text": [
      "Size after duplicate remove :  15677 : 54.04795403916051\n"
     ]
    }
   ],
   "source": [
    "### remove duplicatese\n",
    "df_without_duplicates = df.drop_duplicates(keep=\"first\")\n",
    "print(\"Size after duplicate remove : \",df_without_duplicates.shape[0],\":\",\\\n",
    "      ((df.shape[0]-df_without_duplicates.shape[0])/df.shape[0])*100)"
   ]
  },
  {
   "cell_type": "code",
   "execution_count": 48,
   "id": "99102f3a",
   "metadata": {},
   "outputs": [],
   "source": [
    "## lower text\n",
    "lower = df_without_duplicates[\"RAW DATA\"].apply(lambda x: x.lower())"
   ]
  },
  {
   "cell_type": "code",
   "execution_count": 49,
   "id": "349cebbc",
   "metadata": {},
   "outputs": [
    {
     "name": "stderr",
     "output_type": "stream",
     "text": [
      "C:\\Users\\dell\\AppData\\Local\\Temp/ipykernel_17012/61770665.py:1: SettingWithCopyWarning: \n",
      "A value is trying to be set on a copy of a slice from a DataFrame.\n",
      "Try using .loc[row_indexer,col_indexer] = value instead\n",
      "\n",
      "See the caveats in the documentation: https://pandas.pydata.org/pandas-docs/stable/user_guide/indexing.html#returning-a-view-versus-a-copy\n",
      "  df_without_duplicates[\"RAW DATA\"] = lower\n"
     ]
    }
   ],
   "source": [
    "df_without_duplicates[\"RAW DATA\"] = lower"
   ]
  },
  {
   "cell_type": "code",
   "execution_count": 50,
   "id": "17352933",
   "metadata": {},
   "outputs": [
    {
     "data": {
      "text/html": [
       "<div>\n",
       "<style scoped>\n",
       "    .dataframe tbody tr th:only-of-type {\n",
       "        vertical-align: middle;\n",
       "    }\n",
       "\n",
       "    .dataframe tbody tr th {\n",
       "        vertical-align: top;\n",
       "    }\n",
       "\n",
       "    .dataframe thead th {\n",
       "        text-align: right;\n",
       "    }\n",
       "</style>\n",
       "<table border=\"1\" class=\"dataframe\">\n",
       "  <thead>\n",
       "    <tr style=\"text-align: right;\">\n",
       "      <th></th>\n",
       "      <th>RAW DATA</th>\n",
       "    </tr>\n",
       "  </thead>\n",
       "  <tbody>\n",
       "    <tr>\n",
       "      <th>0</th>\n",
       "      <td>what ifs</td>\n",
       "    </tr>\n",
       "    <tr>\n",
       "      <th>1</th>\n",
       "      <td>seniority</td>\n",
       "    </tr>\n",
       "    <tr>\n",
       "      <th>2</th>\n",
       "      <td>familiarity</td>\n",
       "    </tr>\n",
       "    <tr>\n",
       "      <th>3</th>\n",
       "      <td>functionalities</td>\n",
       "    </tr>\n",
       "    <tr>\n",
       "      <th>4</th>\n",
       "      <td>lambdas</td>\n",
       "    </tr>\n",
       "    <tr>\n",
       "      <th>...</th>\n",
       "      <td>...</td>\n",
       "    </tr>\n",
       "    <tr>\n",
       "      <th>34106</th>\n",
       "      <td>leadership qualities</td>\n",
       "    </tr>\n",
       "    <tr>\n",
       "      <th>34108</th>\n",
       "      <td>actalent</td>\n",
       "    </tr>\n",
       "    <tr>\n",
       "      <th>34109</th>\n",
       "      <td>all applicants</td>\n",
       "    </tr>\n",
       "    <tr>\n",
       "      <th>34110</th>\n",
       "      <td>self-motivated, enthusiastic and strong drive</td>\n",
       "    </tr>\n",
       "    <tr>\n",
       "      <th>34111</th>\n",
       "      <td>negotiation</td>\n",
       "    </tr>\n",
       "  </tbody>\n",
       "</table>\n",
       "<p>15677 rows × 1 columns</p>\n",
       "</div>"
      ],
      "text/plain": [
       "                                            RAW DATA\n",
       "0                                           what ifs\n",
       "1                                          seniority\n",
       "2                                        familiarity\n",
       "3                                    functionalities\n",
       "4                                            lambdas\n",
       "...                                              ...\n",
       "34106                           leadership qualities\n",
       "34108                                       actalent\n",
       "34109                                 all applicants\n",
       "34110  self-motivated, enthusiastic and strong drive\n",
       "34111                                    negotiation\n",
       "\n",
       "[15677 rows x 1 columns]"
      ]
     },
     "execution_count": 50,
     "metadata": {},
     "output_type": "execute_result"
    }
   ],
   "source": [
    "df_without_duplicates"
   ]
  },
  {
   "cell_type": "code",
   "execution_count": 51,
   "id": "dadcfd5f",
   "metadata": {},
   "outputs": [],
   "source": [
    "### remove duplicatese\n",
    "df_without_duplicates = df_without_duplicates.drop_duplicates(keep=\"first\")\n"
   ]
  },
  {
   "cell_type": "code",
   "execution_count": 52,
   "id": "e0ed0440",
   "metadata": {},
   "outputs": [
    {
     "data": {
      "text/plain": [
       "14892"
      ]
     },
     "execution_count": 52,
     "metadata": {},
     "output_type": "execute_result"
    }
   ],
   "source": [
    "df_without_duplicates.shape[0]"
   ]
  },
  {
   "cell_type": "code",
   "execution_count": 57,
   "id": "ce610710",
   "metadata": {},
   "outputs": [
    {
     "name": "stderr",
     "output_type": "stream",
     "text": [
      "C:\\Users\\dell\\AppData\\Local\\Temp/ipykernel_17012/3854185715.py:2: SettingWithCopyWarning: \n",
      "A value is trying to be set on a copy of a slice from a DataFrame.\n",
      "Try using .loc[row_indexer,col_indexer] = value instead\n",
      "\n",
      "See the caveats in the documentation: https://pandas.pydata.org/pandas-docs/stable/user_guide/indexing.html#returning-a-view-versus-a-copy\n",
      "  df_without_duplicates[\"RAW DATA\"] = df_without_duplicates[\"RAW DATA\"].apply(lambda x: re.sub('[^A-Za-z0-9]+',\" \",x))\n"
     ]
    }
   ],
   "source": [
    "### removing special character\n",
    "df_without_duplicates[\"RAW DATA\"] = df_without_duplicates[\"RAW DATA\"].apply(lambda x: re.sub('[^A-Za-z0-9]+',\" \",x))"
   ]
  },
  {
   "cell_type": "code",
   "execution_count": 60,
   "id": "a038a882",
   "metadata": {},
   "outputs": [],
   "source": [
    "df_without_duplicates = df_without_duplicates.drop_duplicates(keep=\"first\")"
   ]
  },
  {
   "cell_type": "code",
   "execution_count": 70,
   "id": "1c9ef899",
   "metadata": {},
   "outputs": [
    {
     "data": {
      "text/html": [
       "<div>\n",
       "<style scoped>\n",
       "    .dataframe tbody tr th:only-of-type {\n",
       "        vertical-align: middle;\n",
       "    }\n",
       "\n",
       "    .dataframe tbody tr th {\n",
       "        vertical-align: top;\n",
       "    }\n",
       "\n",
       "    .dataframe thead th {\n",
       "        text-align: right;\n",
       "    }\n",
       "</style>\n",
       "<table border=\"1\" class=\"dataframe\">\n",
       "  <thead>\n",
       "    <tr style=\"text-align: right;\">\n",
       "      <th></th>\n",
       "      <th>RAW DATA</th>\n",
       "    </tr>\n",
       "  </thead>\n",
       "  <tbody>\n",
       "    <tr>\n",
       "      <th>0</th>\n",
       "      <td>what ifs</td>\n",
       "    </tr>\n",
       "    <tr>\n",
       "      <th>1</th>\n",
       "      <td>seniority</td>\n",
       "    </tr>\n",
       "    <tr>\n",
       "      <th>2</th>\n",
       "      <td>familiarity</td>\n",
       "    </tr>\n",
       "    <tr>\n",
       "      <th>3</th>\n",
       "      <td>functionalities</td>\n",
       "    </tr>\n",
       "    <tr>\n",
       "      <th>4</th>\n",
       "      <td>lambdas</td>\n",
       "    </tr>\n",
       "    <tr>\n",
       "      <th>...</th>\n",
       "      <td>...</td>\n",
       "    </tr>\n",
       "    <tr>\n",
       "      <th>14691</th>\n",
       "      <td>leadership qualities</td>\n",
       "    </tr>\n",
       "    <tr>\n",
       "      <th>14692</th>\n",
       "      <td>actalent</td>\n",
       "    </tr>\n",
       "    <tr>\n",
       "      <th>14693</th>\n",
       "      <td>all applicants</td>\n",
       "    </tr>\n",
       "    <tr>\n",
       "      <th>14694</th>\n",
       "      <td>self motivated enthusiastic and strong drive</td>\n",
       "    </tr>\n",
       "    <tr>\n",
       "      <th>14695</th>\n",
       "      <td>negotiation</td>\n",
       "    </tr>\n",
       "  </tbody>\n",
       "</table>\n",
       "<p>14696 rows × 1 columns</p>\n",
       "</div>"
      ],
      "text/plain": [
       "                                           RAW DATA\n",
       "0                                          what ifs\n",
       "1                                         seniority\n",
       "2                                       familiarity\n",
       "3                                   functionalities\n",
       "4                                           lambdas\n",
       "...                                             ...\n",
       "14691                          leadership qualities\n",
       "14692                                      actalent\n",
       "14693                                all applicants\n",
       "14694  self motivated enthusiastic and strong drive\n",
       "14695                                   negotiation\n",
       "\n",
       "[14696 rows x 1 columns]"
      ]
     },
     "execution_count": 70,
     "metadata": {},
     "output_type": "execute_result"
    }
   ],
   "source": [
    "df_without_duplicates.reset_index().drop(\"index\",axis=1)"
   ]
  },
  {
   "cell_type": "markdown",
   "id": "5e0e61eb",
   "metadata": {},
   "source": [
    "### Vectorizer\n",
    "\n",
    "1. TFIDF"
   ]
  },
  {
   "cell_type": "code",
   "execution_count": 73,
   "id": "9d9b621e",
   "metadata": {},
   "outputs": [],
   "source": [
    "from sklearn.feature_extraction.text import TfidfVectorizer\n",
    "\n",
    "corpus = df_without_duplicates[\"RAW DATA\"].values\n",
    "vectorizer = TfidfVectorizer()\n",
    "x_train = vectorizer.fit_transform(corpus)"
   ]
  },
  {
   "cell_type": "code",
   "execution_count": 92,
   "id": "20bb3097",
   "metadata": {},
   "outputs": [
    {
     "data": {
      "text/plain": [
       "KMeans(n_clusters=2)"
      ]
     },
     "execution_count": 92,
     "metadata": {},
     "output_type": "execute_result"
    }
   ],
   "source": [
    "k_means = KMeans(n_clusters=2)\n",
    "k_means.fit(x_train)\n"
   ]
  },
  {
   "cell_type": "code",
   "execution_count": 95,
   "id": "7782eba2",
   "metadata": {},
   "outputs": [],
   "source": [
    "cluster = k_means.transform(x_train)"
   ]
  },
  {
   "cell_type": "code",
   "execution_count": 96,
   "id": "cdcb869d",
   "metadata": {},
   "outputs": [],
   "source": [
    "cluster_df = pd.DataFrame(cluster)"
   ]
  },
  {
   "cell_type": "code",
   "execution_count": 105,
   "id": "1f0401fb",
   "metadata": {},
   "outputs": [],
   "source": [
    "##concat\n",
    "df_without_duplicates.reset_index(inplace=True)\n",
    "dataframe = pd.concat([df_without_duplicates,cluster_df],axis=1)"
   ]
  },
  {
   "cell_type": "code",
   "execution_count": 107,
   "id": "8769d6f8",
   "metadata": {},
   "outputs": [],
   "source": [
    "dataframe[\"Labels\"] = k_means.labels_"
   ]
  },
  {
   "cell_type": "code",
   "execution_count": 176,
   "id": "1b8c7ed2",
   "metadata": {},
   "outputs": [
    {
     "data": {
      "text/html": [
       "<div>\n",
       "<style scoped>\n",
       "    .dataframe tbody tr th:only-of-type {\n",
       "        vertical-align: middle;\n",
       "    }\n",
       "\n",
       "    .dataframe tbody tr th {\n",
       "        vertical-align: top;\n",
       "    }\n",
       "\n",
       "    .dataframe thead th {\n",
       "        text-align: right;\n",
       "    }\n",
       "</style>\n",
       "<table border=\"1\" class=\"dataframe\">\n",
       "  <thead>\n",
       "    <tr style=\"text-align: right;\">\n",
       "      <th></th>\n",
       "      <th>level_0</th>\n",
       "      <th>index</th>\n",
       "      <th>RAW DATA</th>\n",
       "      <th>0</th>\n",
       "      <th>1</th>\n",
       "      <th>Labels</th>\n",
       "    </tr>\n",
       "  </thead>\n",
       "  <tbody>\n",
       "    <tr>\n",
       "      <th>12717</th>\n",
       "      <td>12717</td>\n",
       "      <td>29066</td>\n",
       "      <td>good scripting</td>\n",
       "      <td>0.998482</td>\n",
       "      <td>1.021530</td>\n",
       "      <td>0</td>\n",
       "    </tr>\n",
       "    <tr>\n",
       "      <th>13791</th>\n",
       "      <td>13791</td>\n",
       "      <td>31454</td>\n",
       "      <td>ubuntu</td>\n",
       "      <td>1.001170</td>\n",
       "      <td>1.032267</td>\n",
       "      <td>0</td>\n",
       "    </tr>\n",
       "    <tr>\n",
       "      <th>7339</th>\n",
       "      <td>7339</td>\n",
       "      <td>17480</td>\n",
       "      <td>uscareer synechron com</td>\n",
       "      <td>1.001050</td>\n",
       "      <td>1.032267</td>\n",
       "      <td>0</td>\n",
       "    </tr>\n",
       "    <tr>\n",
       "      <th>11959</th>\n",
       "      <td>11959</td>\n",
       "      <td>27501</td>\n",
       "      <td>reusable software</td>\n",
       "      <td>0.995193</td>\n",
       "      <td>1.023078</td>\n",
       "      <td>0</td>\n",
       "    </tr>\n",
       "    <tr>\n",
       "      <th>4382</th>\n",
       "      <td>4382</td>\n",
       "      <td>11660</td>\n",
       "      <td>a timely fashion</td>\n",
       "      <td>1.000643</td>\n",
       "      <td>1.028193</td>\n",
       "      <td>0</td>\n",
       "    </tr>\n",
       "    <tr>\n",
       "      <th>3269</th>\n",
       "      <td>3269</td>\n",
       "      <td>9462</td>\n",
       "      <td>rdbms experience</td>\n",
       "      <td>0.994544</td>\n",
       "      <td>1.026199</td>\n",
       "      <td>0</td>\n",
       "    </tr>\n",
       "    <tr>\n",
       "      <th>4022</th>\n",
       "      <td>4022</td>\n",
       "      <td>11036</td>\n",
       "      <td>qat</td>\n",
       "      <td>1.001303</td>\n",
       "      <td>1.032267</td>\n",
       "      <td>0</td>\n",
       "    </tr>\n",
       "    <tr>\n",
       "      <th>14150</th>\n",
       "      <td>14150</td>\n",
       "      <td>32650</td>\n",
       "      <td>jms mq</td>\n",
       "      <td>1.000984</td>\n",
       "      <td>1.032094</td>\n",
       "      <td>0</td>\n",
       "    </tr>\n",
       "    <tr>\n",
       "      <th>6188</th>\n",
       "      <td>6188</td>\n",
       "      <td>15321</td>\n",
       "      <td>release orchestration tool</td>\n",
       "      <td>0.999757</td>\n",
       "      <td>1.031165</td>\n",
       "      <td>0</td>\n",
       "    </tr>\n",
       "    <tr>\n",
       "      <th>7893</th>\n",
       "      <td>7893</td>\n",
       "      <td>18515</td>\n",
       "      <td>the status quo</td>\n",
       "      <td>0.996186</td>\n",
       "      <td>1.030073</td>\n",
       "      <td>0</td>\n",
       "    </tr>\n",
       "  </tbody>\n",
       "</table>\n",
       "</div>"
      ],
      "text/plain": [
       "       level_0  index                    RAW DATA         0         1  Labels\n",
       "12717    12717  29066              good scripting  0.998482  1.021530       0\n",
       "13791    13791  31454                      ubuntu  1.001170  1.032267       0\n",
       "7339      7339  17480      uscareer synechron com  1.001050  1.032267       0\n",
       "11959    11959  27501           reusable software  0.995193  1.023078       0\n",
       "4382      4382  11660            a timely fashion  1.000643  1.028193       0\n",
       "3269      3269   9462            rdbms experience  0.994544  1.026199       0\n",
       "4022      4022  11036                         qat  1.001303  1.032267       0\n",
       "14150    14150  32650                      jms mq  1.000984  1.032094       0\n",
       "6188      6188  15321  release orchestration tool  0.999757  1.031165       0\n",
       "7893      7893  18515              the status quo  0.996186  1.030073       0"
      ]
     },
     "execution_count": 176,
     "metadata": {},
     "output_type": "execute_result"
    }
   ],
   "source": [
    "dataframe[dataframe.Labels==0].sample(10)  ## non techniqual "
   ]
  },
  {
   "cell_type": "code",
   "execution_count": 182,
   "id": "ce6fded7",
   "metadata": {},
   "outputs": [
    {
     "data": {
      "text/html": [
       "<div>\n",
       "<style scoped>\n",
       "    .dataframe tbody tr th:only-of-type {\n",
       "        vertical-align: middle;\n",
       "    }\n",
       "\n",
       "    .dataframe tbody tr th {\n",
       "        vertical-align: top;\n",
       "    }\n",
       "\n",
       "    .dataframe thead th {\n",
       "        text-align: right;\n",
       "    }\n",
       "</style>\n",
       "<table border=\"1\" class=\"dataframe\">\n",
       "  <thead>\n",
       "    <tr style=\"text-align: right;\">\n",
       "      <th></th>\n",
       "      <th>level_0</th>\n",
       "      <th>index</th>\n",
       "      <th>RAW DATA</th>\n",
       "      <th>0</th>\n",
       "      <th>1</th>\n",
       "      <th>Labels</th>\n",
       "    </tr>\n",
       "  </thead>\n",
       "  <tbody>\n",
       "    <tr>\n",
       "      <th>12994</th>\n",
       "      <td>12994</td>\n",
       "      <td>29590</td>\n",
       "      <td>groundbreaking and multifaceted technologies</td>\n",
       "      <td>0.999610</td>\n",
       "      <td>0.980861</td>\n",
       "      <td>1</td>\n",
       "    </tr>\n",
       "    <tr>\n",
       "      <th>987</th>\n",
       "      <td>987</td>\n",
       "      <td>1520</td>\n",
       "      <td>clean architectural and coding principles</td>\n",
       "      <td>0.998565</td>\n",
       "      <td>0.971068</td>\n",
       "      <td>1</td>\n",
       "    </tr>\n",
       "    <tr>\n",
       "      <th>11269</th>\n",
       "      <td>11269</td>\n",
       "      <td>24911</td>\n",
       "      <td>devops and code versioning tools</td>\n",
       "      <td>0.994963</td>\n",
       "      <td>0.966356</td>\n",
       "      <td>1</td>\n",
       "    </tr>\n",
       "    <tr>\n",
       "      <th>11544</th>\n",
       "      <td>11544</td>\n",
       "      <td>25466</td>\n",
       "      <td>excellent verbal and written english communica...</td>\n",
       "      <td>1.000261</td>\n",
       "      <td>0.914868</td>\n",
       "      <td>1</td>\n",
       "    </tr>\n",
       "    <tr>\n",
       "      <th>3921</th>\n",
       "      <td>3921</td>\n",
       "      <td>10776</td>\n",
       "      <td>data lake and digital platform capabilities</td>\n",
       "      <td>0.996118</td>\n",
       "      <td>0.977081</td>\n",
       "      <td>1</td>\n",
       "    </tr>\n",
       "    <tr>\n",
       "      <th>8537</th>\n",
       "      <td>8537</td>\n",
       "      <td>19781</td>\n",
       "      <td>desktop and mobile applications</td>\n",
       "      <td>0.998033</td>\n",
       "      <td>0.965547</td>\n",
       "      <td>1</td>\n",
       "    </tr>\n",
       "    <tr>\n",
       "      <th>5604</th>\n",
       "      <td>5604</td>\n",
       "      <td>14345</td>\n",
       "      <td>embedded and structural composites</td>\n",
       "      <td>1.000286</td>\n",
       "      <td>0.983568</td>\n",
       "      <td>1</td>\n",
       "    </tr>\n",
       "    <tr>\n",
       "      <th>11458</th>\n",
       "      <td>11458</td>\n",
       "      <td>25274</td>\n",
       "      <td>both business and technical specialists</td>\n",
       "      <td>0.997441</td>\n",
       "      <td>0.963891</td>\n",
       "      <td>1</td>\n",
       "    </tr>\n",
       "    <tr>\n",
       "      <th>6360</th>\n",
       "      <td>6360</td>\n",
       "      <td>15593</td>\n",
       "      <td>useful manual and automated software testing e...</td>\n",
       "      <td>0.994718</td>\n",
       "      <td>0.956243</td>\n",
       "      <td>1</td>\n",
       "    </tr>\n",
       "    <tr>\n",
       "      <th>11514</th>\n",
       "      <td>11514</td>\n",
       "      <td>25383</td>\n",
       "      <td>logical analytical and debugging problem solvi...</td>\n",
       "      <td>0.999240</td>\n",
       "      <td>0.925292</td>\n",
       "      <td>1</td>\n",
       "    </tr>\n",
       "  </tbody>\n",
       "</table>\n",
       "</div>"
      ],
      "text/plain": [
       "       level_0  index                                           RAW DATA  \\\n",
       "12994    12994  29590       groundbreaking and multifaceted technologies   \n",
       "987        987   1520          clean architectural and coding principles   \n",
       "11269    11269  24911                   devops and code versioning tools   \n",
       "11544    11544  25466  excellent verbal and written english communica...   \n",
       "3921      3921  10776        data lake and digital platform capabilities   \n",
       "8537      8537  19781                    desktop and mobile applications   \n",
       "5604      5604  14345                 embedded and structural composites   \n",
       "11458    11458  25274            both business and technical specialists   \n",
       "6360      6360  15593  useful manual and automated software testing e...   \n",
       "11514    11514  25383  logical analytical and debugging problem solvi...   \n",
       "\n",
       "              0         1  Labels  \n",
       "12994  0.999610  0.980861       1  \n",
       "987    0.998565  0.971068       1  \n",
       "11269  0.994963  0.966356       1  \n",
       "11544  1.000261  0.914868       1  \n",
       "3921   0.996118  0.977081       1  \n",
       "8537   0.998033  0.965547       1  \n",
       "5604   1.000286  0.983568       1  \n",
       "11458  0.997441  0.963891       1  \n",
       "6360   0.994718  0.956243       1  \n",
       "11514  0.999240  0.925292       1  "
      ]
     },
     "execution_count": 182,
     "metadata": {},
     "output_type": "execute_result"
    }
   ],
   "source": [
    "dataframe[dataframe.Labels==1].sample(10)    ## techniqual skills "
   ]
  },
  {
   "cell_type": "markdown",
   "id": "ca61a844",
   "metadata": {},
   "source": [
    "#### Using PCA and kmeans"
   ]
  },
  {
   "cell_type": "code",
   "execution_count": 183,
   "id": "0c874f87",
   "metadata": {},
   "outputs": [],
   "source": [
    "from sklearn.decomposition import PCA"
   ]
  },
  {
   "cell_type": "code",
   "execution_count": 265,
   "id": "79796033",
   "metadata": {},
   "outputs": [],
   "source": [
    "parameter = [5,10,15,50,100,150,200]\n",
    "pca = PCA(n_components=500)\n",
    "values = pca.fit_transform(x_train.A)\n"
   ]
  },
  {
   "cell_type": "code",
   "execution_count": 266,
   "id": "9dc9aa94",
   "metadata": {},
   "outputs": [
    {
     "data": {
      "text/plain": [
       "KMeans(n_clusters=2)"
      ]
     },
     "execution_count": 266,
     "metadata": {},
     "output_type": "execute_result"
    }
   ],
   "source": [
    "k_means_pca = KMeans(n_clusters=2)\n",
    "k_means_pca.fit(values)\n"
   ]
  },
  {
   "cell_type": "code",
   "execution_count": 267,
   "id": "cab4a5cc",
   "metadata": {},
   "outputs": [
    {
     "data": {
      "text/plain": [
       "array([0, 0, 0, ..., 0, 0, 0])"
      ]
     },
     "execution_count": 267,
     "metadata": {},
     "output_type": "execute_result"
    }
   ],
   "source": [
    "k_means_pca.labels_"
   ]
  },
  {
   "cell_type": "code",
   "execution_count": 268,
   "id": "dd595cd8",
   "metadata": {},
   "outputs": [],
   "source": [
    "# df_without_duplicates.drop([\"level_0\",\"index\"],axis=1,inplace=True)"
   ]
  },
  {
   "cell_type": "code",
   "execution_count": 269,
   "id": "d99f17f2",
   "metadata": {},
   "outputs": [],
   "source": [
    "df_without_duplicates[\"labels\"] = k_means_pca.labels_"
   ]
  },
  {
   "cell_type": "code",
   "execution_count": 279,
   "id": "44a7a94c",
   "metadata": {},
   "outputs": [
    {
     "data": {
      "text/html": [
       "<div>\n",
       "<style scoped>\n",
       "    .dataframe tbody tr th:only-of-type {\n",
       "        vertical-align: middle;\n",
       "    }\n",
       "\n",
       "    .dataframe tbody tr th {\n",
       "        vertical-align: top;\n",
       "    }\n",
       "\n",
       "    .dataframe thead th {\n",
       "        text-align: right;\n",
       "    }\n",
       "</style>\n",
       "<table border=\"1\" class=\"dataframe\">\n",
       "  <thead>\n",
       "    <tr style=\"text-align: right;\">\n",
       "      <th></th>\n",
       "      <th>RAW DATA</th>\n",
       "      <th>labels</th>\n",
       "    </tr>\n",
       "  </thead>\n",
       "  <tbody>\n",
       "    <tr>\n",
       "      <th>8207</th>\n",
       "      <td>the mongo database</td>\n",
       "      <td>0</td>\n",
       "    </tr>\n",
       "    <tr>\n",
       "      <th>5843</th>\n",
       "      <td>the dsp team</td>\n",
       "      <td>0</td>\n",
       "    </tr>\n",
       "    <tr>\n",
       "      <th>7915</th>\n",
       "      <td>the aws cloud architecture solution</td>\n",
       "      <td>0</td>\n",
       "    </tr>\n",
       "    <tr>\n",
       "      <th>13524</th>\n",
       "      <td>the lifecycle planning</td>\n",
       "      <td>0</td>\n",
       "    </tr>\n",
       "    <tr>\n",
       "      <th>5126</th>\n",
       "      <td>the pulse secure desktop client</td>\n",
       "      <td>0</td>\n",
       "    </tr>\n",
       "    <tr>\n",
       "      <th>2375</th>\n",
       "      <td>the necessary security mitigations</td>\n",
       "      <td>0</td>\n",
       "    </tr>\n",
       "    <tr>\n",
       "      <th>1998</th>\n",
       "      <td>the sas programming group</td>\n",
       "      <td>0</td>\n",
       "    </tr>\n",
       "    <tr>\n",
       "      <th>1669</th>\n",
       "      <td>the automated build process</td>\n",
       "      <td>0</td>\n",
       "    </tr>\n",
       "    <tr>\n",
       "      <th>14004</th>\n",
       "      <td>the thingspace iot platform</td>\n",
       "      <td>0</td>\n",
       "    </tr>\n",
       "    <tr>\n",
       "      <th>13085</th>\n",
       "      <td>the operational characteristics</td>\n",
       "      <td>0</td>\n",
       "    </tr>\n",
       "  </tbody>\n",
       "</table>\n",
       "</div>"
      ],
      "text/plain": [
       "                                  RAW DATA  labels\n",
       "8207                    the mongo database       0\n",
       "5843                          the dsp team       0\n",
       "7915   the aws cloud architecture solution       0\n",
       "13524               the lifecycle planning       0\n",
       "5126       the pulse secure desktop client       0\n",
       "2375    the necessary security mitigations       0\n",
       "1998             the sas programming group       0\n",
       "1669           the automated build process       0\n",
       "14004          the thingspace iot platform       0\n",
       "13085      the operational characteristics       0"
      ]
     },
     "execution_count": 279,
     "metadata": {},
     "output_type": "execute_result"
    }
   ],
   "source": [
    "df_without_duplicates[df_without_duplicates.labels==1].sample(10)   ## contains techniqual skills"
   ]
  },
  {
   "cell_type": "code",
   "execution_count": 316,
   "id": "920da52e",
   "metadata": {},
   "outputs": [
    {
     "data": {
      "text/html": [
       "<div>\n",
       "<style scoped>\n",
       "    .dataframe tbody tr th:only-of-type {\n",
       "        vertical-align: middle;\n",
       "    }\n",
       "\n",
       "    .dataframe tbody tr th {\n",
       "        vertical-align: top;\n",
       "    }\n",
       "\n",
       "    .dataframe thead th {\n",
       "        text-align: right;\n",
       "    }\n",
       "</style>\n",
       "<table border=\"1\" class=\"dataframe\">\n",
       "  <thead>\n",
       "    <tr style=\"text-align: right;\">\n",
       "      <th></th>\n",
       "      <th>RAW DATA</th>\n",
       "      <th>labels</th>\n",
       "    </tr>\n",
       "  </thead>\n",
       "  <tbody>\n",
       "    <tr>\n",
       "      <th>6664</th>\n",
       "      <td>carrier grade telecommunications products</td>\n",
       "      <td>0</td>\n",
       "    </tr>\n",
       "    <tr>\n",
       "      <th>7790</th>\n",
       "      <td>database fundamentals</td>\n",
       "      <td>0</td>\n",
       "    </tr>\n",
       "    <tr>\n",
       "      <th>11520</th>\n",
       "      <td>java scala</td>\n",
       "      <td>0</td>\n",
       "    </tr>\n",
       "    <tr>\n",
       "      <th>4279</th>\n",
       "      <td>servicewatch</td>\n",
       "      <td>0</td>\n",
       "    </tr>\n",
       "    <tr>\n",
       "      <th>4452</th>\n",
       "      <td>our software development lifecycle</td>\n",
       "      <td>0</td>\n",
       "    </tr>\n",
       "    <tr>\n",
       "      <th>13169</th>\n",
       "      <td>any patents</td>\n",
       "      <td>0</td>\n",
       "    </tr>\n",
       "    <tr>\n",
       "      <th>6865</th>\n",
       "      <td>analysts</td>\n",
       "      <td>0</td>\n",
       "    </tr>\n",
       "    <tr>\n",
       "      <th>1073</th>\n",
       "      <td>scalable and efficient data processing systems</td>\n",
       "      <td>1</td>\n",
       "    </tr>\n",
       "    <tr>\n",
       "      <th>9564</th>\n",
       "      <td>git knowledge</td>\n",
       "      <td>0</td>\n",
       "    </tr>\n",
       "    <tr>\n",
       "      <th>6964</th>\n",
       "      <td>architecting</td>\n",
       "      <td>0</td>\n",
       "    </tr>\n",
       "  </tbody>\n",
       "</table>\n",
       "</div>"
      ],
      "text/plain": [
       "                                             RAW DATA  labels\n",
       "6664        carrier grade telecommunications products       0\n",
       "7790                            database fundamentals       0\n",
       "11520                                      java scala       0\n",
       "4279                                     servicewatch       0\n",
       "4452               our software development lifecycle       0\n",
       "13169                                     any patents       0\n",
       "6865                                         analysts       0\n",
       "1073   scalable and efficient data processing systems       1\n",
       "9564                                    git knowledge       0\n",
       "6964                                     architecting       0"
      ]
     },
     "execution_count": 316,
     "metadata": {},
     "output_type": "execute_result"
    }
   ],
   "source": [
    "df_without_duplicates[df_without_duplicates.labels==0].sample(10)   ### contains non techniqual skills "
   ]
  },
  {
   "cell_type": "code",
   "execution_count": null,
   "id": "cad8365d",
   "metadata": {},
   "outputs": [],
   "source": []
  },
  {
   "cell_type": "code",
   "execution_count": null,
   "id": "3d9076b1",
   "metadata": {},
   "outputs": [],
   "source": []
  },
  {
   "cell_type": "code",
   "execution_count": null,
   "id": "4b86a2ee",
   "metadata": {},
   "outputs": [],
   "source": []
  },
  {
   "cell_type": "code",
   "execution_count": null,
   "id": "23d05432",
   "metadata": {},
   "outputs": [],
   "source": []
  }
 ],
 "metadata": {
  "kernelspec": {
   "display_name": "Python 3 (ipykernel)",
   "language": "python",
   "name": "python3"
  },
  "language_info": {
   "codemirror_mode": {
    "name": "ipython",
    "version": 3
   },
   "file_extension": ".py",
   "mimetype": "text/x-python",
   "name": "python",
   "nbconvert_exporter": "python",
   "pygments_lexer": "ipython3",
   "version": "3.9.2"
  }
 },
 "nbformat": 4,
 "nbformat_minor": 5
}
